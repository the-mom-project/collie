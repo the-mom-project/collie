{
 "cells": [
  {
   "cell_type": "markdown",
   "metadata": {
    "id": "f2v2y0kDhE3V"
   },
   "source": [
    "<table align=\"left\">\n",
    "  <td>\n",
    "    <a target=\"_blank\" href=\"https://colab.research.google.com/github/ShopRunner/collie/blob/main/tutorials/06_multi_stage_models\"><img src=\"https://www.tensorflow.org/images/colab_logo_32px.png\" /> Run in Google Colab</a>\n",
    "  </td>\n",
    "  <td>\n",
    "    <a target=\"_blank\" href=\"https://github.com/ShopRunner/collie/blob/main/tutorials/06_multi_stage_models.ipynb\"><img src=\"https://www.tensorflow.org/images/GitHub-Mark-32px.png\" /> View source on GitHub</a>\n",
    "  </td>\n",
    "  <td>\n",
    "    <a target=\"_blank\" href=\"https://raw.githubusercontent.com/ShopRunner/collie/main/tutorials/06_multi_stage_models.ipynb\"><img src=\"https://www.tensorflow.org/images/download_logo_32px.png\" /> Download notebook</a>\n",
    "  </td>\n",
    "</table>"
   ]
  },
  {
   "cell_type": "code",
   "execution_count": 1,
   "metadata": {
    "id": "8Tcd653JhE3h"
   },
   "outputs": [
    {
     "name": "stdout",
     "output_type": "stream",
     "text": [
      "\u001b[33mWARNING: Running pip as the 'root' user can result in broken permissions and conflicting behaviour with the system package manager. It is recommended to use a virtual environment instead: https://pip.pypa.io/warnings/venv\u001b[0m\n"
     ]
    }
   ],
   "source": [
    "# for Collab notebooks, we will start by installing the ``collie`` library\n",
    "!pip install collie --quiet"
   ]
  },
  {
   "cell_type": "code",
   "execution_count": 2,
   "metadata": {
    "id": "1nMfnWFKhE3j",
    "outputId": "0452ef70-4b40-4e71-ebcc-72aa43ab4d07"
   },
   "outputs": [
    {
     "name": "stdout",
     "output_type": "stream",
     "text": [
      "env: DATA_PATH=./data/\n"
     ]
    }
   ],
   "source": [
    "%reload_ext autoreload\n",
    "%autoreload 2\n",
    "%matplotlib inline\n",
    "\n",
    "%env DATA_PATH ./data/"
   ]
  },
  {
   "cell_type": "code",
   "execution_count": 3,
   "metadata": {
    "id": "hIKvscx2hE3k"
   },
   "outputs": [],
   "source": [
    "import os\n",
    "\n",
    "import numpy as np\n",
    "import pandas as pd\n",
    "from pytorch_lightning.utilities.seed import seed_everything\n",
    "from IPython.display import HTML\n",
    "import joblib\n",
    "import torch\n",
    "\n",
    "from collie.metrics import mapk, mrr, auc, evaluate_in_batches\n",
    "from collie.model import CollieTrainer, HybridPretrainedModel, MatrixFactorizationModel\n",
    "from collie.movielens import (get_movielens_metadata,\n",
    "                              get_recommendation_visualizations,\n",
    "                              read_movielens_df_item)"
   ]
  },
  {
   "cell_type": "markdown",
   "metadata": {
    "id": "44gLNrW-ghT_"
   },
   "source": [
    "## Load Data From ``01_prepare_data`` Notebook \n",
    "If you're running this locally on Jupyter, you should be able to run the next cell quickly without a problem! If you are running this on Colab, you'll need to regenerate the data by running the cell below that, which should only take a few extra seconds to complete. "
   ]
  },
  {
   "cell_type": "code",
   "execution_count": 4,
   "metadata": {
    "id": "XKKPmYi_ghT_",
    "outputId": "23c16373-6747-4255-9f52-7091312e0b71"
   },
   "outputs": [
    {
     "name": "stdout",
     "output_type": "stream",
     "text": [
      "Checking for and removing duplicate user, item ID pairs...\n",
      "Checking ``num_negative_samples`` is valid...\n",
      "Maximum number of items a user has interacted with: 378\n",
      "Generating positive items set...\n",
      "Generating positive items set...\n",
      "Generating positive items set...\n",
      "Train: Interactions object with 49426 interactions between 943 users and 1674 items, returning 10 negative samples per interaction.\n",
      "Val:   Interactions object with 5949 interactions between 943 users and 1674 items, returning 10 negative samples per interaction.\n"
     ]
    }
   ],
   "source": [
    "try:\n",
    "    # let's grab the ``Interactions`` objects we saved in the last notebook\n",
    "    train_interactions = joblib.load(os.path.join(os.environ.get('DATA_PATH', 'data/'),\n",
    "                                                  'train_interactions.pkl'))\n",
    "    val_interactions = joblib.load(os.path.join(os.environ.get('DATA_PATH', 'data/'),\n",
    "                                                'val_interactions.pkl'))\n",
    "except FileNotFoundError:\n",
    "    # we're running this notebook on Colab where results from the first notebook are not saved\n",
    "    # regenerate this data below\n",
    "    from collie.cross_validation import stratified_split\n",
    "    from collie.interactions import Interactions\n",
    "    from collie.movielens import read_movielens_df\n",
    "    from collie.utils import convert_to_implicit, remove_users_with_fewer_than_n_interactions\n",
    "\n",
    "\n",
    "    df = read_movielens_df(decrement_ids=True)\n",
    "    implicit_df = convert_to_implicit(df, min_rating_to_keep=4)\n",
    "    implicit_df = remove_users_with_fewer_than_n_interactions(implicit_df, min_num_of_interactions=3)\n",
    "\n",
    "    interactions = Interactions(\n",
    "        users=implicit_df['user_id'],\n",
    "        items=implicit_df['item_id'],\n",
    "        ratings=implicit_df['rating'],\n",
    "        allow_missing_ids=True,\n",
    "    )\n",
    "\n",
    "    train_interactions, val_interactions = stratified_split(interactions, test_p=0.1, seed=42)\n",
    "\n",
    "\n",
    "print('Train:', train_interactions)\n",
    "print('Val:  ', val_interactions)"
   ]
  },
  {
   "cell_type": "markdown",
   "metadata": {
    "id": "nfjulOO0hE3m"
   },
   "source": [
    "# Hybrid, Multi-Stage Collie Model \n",
    "In this notebook, we will use the same metadata and model architecture as the previous tutorial with a hybrid, multi-stage Collie model. Unlike the last tutorial, however, we won't have to pretrain a ``MatrixFactorizationModel`` beforehand - we'll do all our training with a single model in stages.\n",
    "\n",
    "## What is a multi-stage model? \n",
    "For more complicated deep learning model architectures, optimizers may sometimes focus on only a small handful of parameters for the bulk of the model learning, even if optimizing other parameters will lead to a lower global loss. Rather than rely on extensive hyperparameter tuning for solving this issue, we take advantage of the fact that these more complex recommendation model architectures have distinct pieces, and let each piece learn in its own _stage_. Looking at the architecture for a hybrid model, these stages are: \n",
    "\n",
    "1. Training the user and item embeddings and bias terms (the same parameters as in a ``MatrixFactorizationModel``)\n",
    "2. Training the metadata MLP and combined MLP layers with frozen user and item embeddings (the same as we initially did with a ``HybridPretrainedModel``) \n",
    "3. Training all parameters together\n",
    "\n",
    "With a multi-stage model, we can optimize each of these stages separately, giving them time to learn and be used effectively in the final model. Below, we'll see how this is implemented and used in Collie! "
   ]
  },
  {
   "cell_type": "markdown",
   "metadata": {
    "id": "CM_O67rRhE3m"
   },
   "source": [
    "## Read in Data"
   ]
  },
  {
   "cell_type": "code",
   "execution_count": 5,
   "metadata": {
    "id": "aELBEe5bhE3n",
    "outputId": "70033834-c3f8-4038-f0b4-e346600ef4d4"
   },
   "outputs": [
    {
     "data": {
      "text/html": [
       "<div>\n",
       "<style scoped>\n",
       "    .dataframe tbody tr th:only-of-type {\n",
       "        vertical-align: middle;\n",
       "    }\n",
       "\n",
       "    .dataframe tbody tr th {\n",
       "        vertical-align: top;\n",
       "    }\n",
       "\n",
       "    .dataframe thead th {\n",
       "        text-align: right;\n",
       "    }\n",
       "</style>\n",
       "<table border=\"1\" class=\"dataframe\">\n",
       "  <thead>\n",
       "    <tr style=\"text-align: right;\">\n",
       "      <th></th>\n",
       "      <th>genre_action</th>\n",
       "      <th>genre_adventure</th>\n",
       "      <th>genre_animation</th>\n",
       "      <th>genre_children</th>\n",
       "      <th>genre_comedy</th>\n",
       "      <th>genre_crime</th>\n",
       "      <th>genre_documentary</th>\n",
       "      <th>genre_drama</th>\n",
       "      <th>genre_fantasy</th>\n",
       "      <th>genre_film_noir</th>\n",
       "      <th>...</th>\n",
       "      <th>genre_unknown</th>\n",
       "      <th>decade_unknown</th>\n",
       "      <th>decade_20</th>\n",
       "      <th>decade_30</th>\n",
       "      <th>decade_40</th>\n",
       "      <th>decade_50</th>\n",
       "      <th>decade_60</th>\n",
       "      <th>decade_70</th>\n",
       "      <th>decade_80</th>\n",
       "      <th>decade_90</th>\n",
       "    </tr>\n",
       "  </thead>\n",
       "  <tbody>\n",
       "    <tr>\n",
       "      <th>0</th>\n",
       "      <td>0</td>\n",
       "      <td>0</td>\n",
       "      <td>1</td>\n",
       "      <td>1</td>\n",
       "      <td>1</td>\n",
       "      <td>0</td>\n",
       "      <td>0</td>\n",
       "      <td>0</td>\n",
       "      <td>0</td>\n",
       "      <td>0</td>\n",
       "      <td>...</td>\n",
       "      <td>0</td>\n",
       "      <td>0</td>\n",
       "      <td>0</td>\n",
       "      <td>0</td>\n",
       "      <td>0</td>\n",
       "      <td>0</td>\n",
       "      <td>0</td>\n",
       "      <td>0</td>\n",
       "      <td>0</td>\n",
       "      <td>1</td>\n",
       "    </tr>\n",
       "    <tr>\n",
       "      <th>1</th>\n",
       "      <td>1</td>\n",
       "      <td>1</td>\n",
       "      <td>0</td>\n",
       "      <td>0</td>\n",
       "      <td>0</td>\n",
       "      <td>0</td>\n",
       "      <td>0</td>\n",
       "      <td>0</td>\n",
       "      <td>0</td>\n",
       "      <td>0</td>\n",
       "      <td>...</td>\n",
       "      <td>0</td>\n",
       "      <td>0</td>\n",
       "      <td>0</td>\n",
       "      <td>0</td>\n",
       "      <td>0</td>\n",
       "      <td>0</td>\n",
       "      <td>0</td>\n",
       "      <td>0</td>\n",
       "      <td>0</td>\n",
       "      <td>1</td>\n",
       "    </tr>\n",
       "    <tr>\n",
       "      <th>2</th>\n",
       "      <td>0</td>\n",
       "      <td>0</td>\n",
       "      <td>0</td>\n",
       "      <td>0</td>\n",
       "      <td>0</td>\n",
       "      <td>0</td>\n",
       "      <td>0</td>\n",
       "      <td>0</td>\n",
       "      <td>0</td>\n",
       "      <td>0</td>\n",
       "      <td>...</td>\n",
       "      <td>0</td>\n",
       "      <td>0</td>\n",
       "      <td>0</td>\n",
       "      <td>0</td>\n",
       "      <td>0</td>\n",
       "      <td>0</td>\n",
       "      <td>0</td>\n",
       "      <td>0</td>\n",
       "      <td>0</td>\n",
       "      <td>1</td>\n",
       "    </tr>\n",
       "    <tr>\n",
       "      <th>3</th>\n",
       "      <td>1</td>\n",
       "      <td>0</td>\n",
       "      <td>0</td>\n",
       "      <td>0</td>\n",
       "      <td>1</td>\n",
       "      <td>0</td>\n",
       "      <td>0</td>\n",
       "      <td>1</td>\n",
       "      <td>0</td>\n",
       "      <td>0</td>\n",
       "      <td>...</td>\n",
       "      <td>0</td>\n",
       "      <td>0</td>\n",
       "      <td>0</td>\n",
       "      <td>0</td>\n",
       "      <td>0</td>\n",
       "      <td>0</td>\n",
       "      <td>0</td>\n",
       "      <td>0</td>\n",
       "      <td>0</td>\n",
       "      <td>1</td>\n",
       "    </tr>\n",
       "    <tr>\n",
       "      <th>4</th>\n",
       "      <td>0</td>\n",
       "      <td>0</td>\n",
       "      <td>0</td>\n",
       "      <td>0</td>\n",
       "      <td>0</td>\n",
       "      <td>1</td>\n",
       "      <td>0</td>\n",
       "      <td>1</td>\n",
       "      <td>0</td>\n",
       "      <td>0</td>\n",
       "      <td>...</td>\n",
       "      <td>0</td>\n",
       "      <td>0</td>\n",
       "      <td>0</td>\n",
       "      <td>0</td>\n",
       "      <td>0</td>\n",
       "      <td>0</td>\n",
       "      <td>0</td>\n",
       "      <td>0</td>\n",
       "      <td>0</td>\n",
       "      <td>1</td>\n",
       "    </tr>\n",
       "  </tbody>\n",
       "</table>\n",
       "<p>5 rows × 28 columns</p>\n",
       "</div>"
      ],
      "text/plain": [
       "   genre_action  genre_adventure  genre_animation  genre_children  \\\n",
       "0             0                0                1               1   \n",
       "1             1                1                0               0   \n",
       "2             0                0                0               0   \n",
       "3             1                0                0               0   \n",
       "4             0                0                0               0   \n",
       "\n",
       "   genre_comedy  genre_crime  genre_documentary  genre_drama  genre_fantasy  \\\n",
       "0             1            0                  0            0              0   \n",
       "1             0            0                  0            0              0   \n",
       "2             0            0                  0            0              0   \n",
       "3             1            0                  0            1              0   \n",
       "4             0            1                  0            1              0   \n",
       "\n",
       "   genre_film_noir  ...  genre_unknown  decade_unknown  decade_20  decade_30  \\\n",
       "0                0  ...              0               0          0          0   \n",
       "1                0  ...              0               0          0          0   \n",
       "2                0  ...              0               0          0          0   \n",
       "3                0  ...              0               0          0          0   \n",
       "4                0  ...              0               0          0          0   \n",
       "\n",
       "   decade_40  decade_50  decade_60  decade_70  decade_80  decade_90  \n",
       "0          0          0          0          0          0          1  \n",
       "1          0          0          0          0          0          1  \n",
       "2          0          0          0          0          0          1  \n",
       "3          0          0          0          0          0          1  \n",
       "4          0          0          0          0          0          1  \n",
       "\n",
       "[5 rows x 28 columns]"
      ]
     },
     "execution_count": 5,
     "metadata": {},
     "output_type": "execute_result"
    }
   ],
   "source": [
    "# read in the same metadata used in notebooks ``03``, ``04``, and ``05``\n",
    "metadata_df = get_movielens_metadata()\n",
    "\n",
    "\n",
    "metadata_df.head()"
   ]
  },
  {
   "cell_type": "code",
   "execution_count": 6,
   "metadata": {
    "id": "LSy_-Jsxg9AL",
    "outputId": "2a4bfca7-d216-40f5-a2c3-0ca5e99b5653"
   },
   "outputs": [
    {
     "data": {
      "text/plain": [
       "tensor([ 2,  1, 15,  ...,  7,  0,  7])"
      ]
     },
     "execution_count": 6,
     "metadata": {},
     "output_type": "execute_result"
    }
   ],
   "source": [
    "# We'll also recreate ``genres`` - a ``1 x n_items`` tensor with a number representing the\n",
    "# first genre associated with the film, for simplicity\n",
    "genres = (\n",
    "    torch.tensor(metadata_df[[c for c in metadata_df.columns if 'genre' in c]].values)\n",
    "    .topk(1)\n",
    "    .indices\n",
    "    .view(-1)\n",
    ")[:train_interactions.num_items]\n",
    "\n",
    "\n",
    "genres"
   ]
  },
  {
   "cell_type": "code",
   "execution_count": 7,
   "metadata": {
    "id": "_4r2CHX_hE3n",
    "outputId": "5cd6ffda-4a4e-4e35-93ea-dc1a46df896a"
   },
   "outputs": [
    {
     "name": "stderr",
     "output_type": "stream",
     "text": [
      "Global seed set to 22\n"
     ]
    },
    {
     "data": {
      "text/plain": [
       "22"
      ]
     },
     "execution_count": 7,
     "metadata": {},
     "output_type": "execute_result"
    }
   ],
   "source": [
    "# and, as always, set our random seed\n",
    "seed_everything(22)"
   ]
  },
  {
   "cell_type": "code",
   "execution_count": 8,
   "metadata": {},
   "outputs": [],
   "source": [
    "from collie.model.hybrid_matrix_factorization import HybridModel"
   ]
  },
  {
   "cell_type": "code",
   "execution_count": 9,
   "metadata": {},
   "outputs": [
    {
     "name": "stdout",
     "output_type": "stream",
     "text": [
      "Set ``self.hparams.stage`` to \"matrix_factorization\"\n"
     ]
    }
   ],
   "source": [
    "# note that this is the same model architecture as in tutorial 05, just without the pretrained model to\n",
    "# start with! Also, because we train in stages, we can define a separate learning rate for each stage\n",
    "hybrid_model = HybridModel(train=train_interactions,\n",
    "                           val=val_interactions,\n",
    "                           item_metadata=metadata_df,\n",
    "                           metadata_layers_dims=[8],\n",
    "                           combined_layers_dims=[16],\n",
    "                           embedding_dim=30,\n",
    "                           lr=1e-2,  # used in stage 1\n",
    "                           bias_lr=1e-1,  # used in stage 1\n",
    "                           metadata_only_stage_lr=1e-3,  # used in stage 2\n",
    "                           all_stage_lr=1e-4)  # used in stage 3 (the final stage)"
   ]
  },
  {
   "cell_type": "code",
   "execution_count": 10,
   "metadata": {},
   "outputs": [
    {
     "name": "stderr",
     "output_type": "stream",
     "text": [
      "GPU available: False, used: False\n",
      "TPU available: False, using: 0 TPU cores\n"
     ]
    }
   ],
   "source": [
    "trainer = CollieTrainer(\n",
    "    model=hybrid_model,\n",
    "    max_epochs=5,\n",
    "    logger=False,\n",
    "    enable_checkpointing=False,\n",
    "    weights_summary=None,\n",
    ")"
   ]
  },
  {
   "cell_type": "code",
   "execution_count": 11,
   "metadata": {},
   "outputs": [
    {
     "data": {
      "application/vnd.jupyter.widget-view+json": {
       "model_id": "",
       "version_major": 2,
       "version_minor": 0
      },
      "text/plain": [
       "Validation sanity check: 0it [00:00, ?it/s]"
      ]
     },
     "metadata": {},
     "output_type": "display_data"
    },
    {
     "name": "stderr",
     "output_type": "stream",
     "text": [
      "Global seed set to 22\n"
     ]
    },
    {
     "data": {
      "application/vnd.jupyter.widget-view+json": {
       "model_id": "9ab3f693420341f2be106518406647de",
       "version_major": 2,
       "version_minor": 0
      },
      "text/plain": [
       "Training: 0it [00:00, ?it/s]"
      ]
     },
     "metadata": {},
     "output_type": "display_data"
    },
    {
     "data": {
      "application/vnd.jupyter.widget-view+json": {
       "model_id": "",
       "version_major": 2,
       "version_minor": 0
      },
      "text/plain": [
       "Validating: 0it [00:00, ?it/s]"
      ]
     },
     "metadata": {},
     "output_type": "display_data"
    },
    {
     "data": {
      "application/vnd.jupyter.widget-view+json": {
       "model_id": "",
       "version_major": 2,
       "version_minor": 0
      },
      "text/plain": [
       "Validating: 0it [00:00, ?it/s]"
      ]
     },
     "metadata": {},
     "output_type": "display_data"
    },
    {
     "data": {
      "application/vnd.jupyter.widget-view+json": {
       "model_id": "",
       "version_major": 2,
       "version_minor": 0
      },
      "text/plain": [
       "Validating: 0it [00:00, ?it/s]"
      ]
     },
     "metadata": {},
     "output_type": "display_data"
    },
    {
     "data": {
      "application/vnd.jupyter.widget-view+json": {
       "model_id": "",
       "version_major": 2,
       "version_minor": 0
      },
      "text/plain": [
       "Validating: 0it [00:00, ?it/s]"
      ]
     },
     "metadata": {},
     "output_type": "display_data"
    },
    {
     "data": {
      "application/vnd.jupyter.widget-view+json": {
       "model_id": "",
       "version_major": 2,
       "version_minor": 0
      },
      "text/plain": [
       "Validating: 0it [00:00, ?it/s]"
      ]
     },
     "metadata": {},
     "output_type": "display_data"
    }
   ],
   "source": [
    "# train up the first stage only, which in this case is just the ``MatrixFactorizationModel`` components\n",
    "# only\n",
    "trainer.fit(hybrid_model)"
   ]
  },
  {
   "cell_type": "code",
   "execution_count": 12,
   "metadata": {},
   "outputs": [
    {
     "data": {
      "application/vnd.jupyter.widget-view+json": {
       "model_id": "67e2be818ab14107b4e1c8a0e70b558c",
       "version_major": 2,
       "version_minor": 0
      },
      "text/plain": [
       "  0%|          | 0/48 [00:00<?, ?it/s]"
      ]
     },
     "metadata": {},
     "output_type": "display_data"
    },
    {
     "name": "stdout",
     "output_type": "stream",
     "text": [
      "MAP@10 First Stage: 0.03483490215304492\n"
     ]
    }
   ],
   "source": [
    "# evaluate the first stage model\n",
    "map_10_first_stage = evaluate_in_batches(metric_list=[mapk],\n",
    "                                         test_interactions=val_interactions,\n",
    "                                         model=hybrid_model)\n",
    "\n",
    "\n",
    "print(f'MAP@10 First Stage: {map_10_first_stage}')"
   ]
  },
  {
   "cell_type": "markdown",
   "metadata": {},
   "source": [
    "With the first stage trained, we can now move on to the second stage, which optimizes the metadata and combined MLP layers instead of the user and item embeddings and bias terms.\n",
    "\n",
    "For multi-stage Collie models, we can advance to the next stage with the ``advance_stage`` method, increase the number of epochs to train the second stage for, then fit the model as normal, with the same ``CollieTrainer`` object!"
   ]
  },
  {
   "cell_type": "code",
   "execution_count": 13,
   "metadata": {},
   "outputs": [
    {
     "name": "stdout",
     "output_type": "stream",
     "text": [
      "Set ``self.hparams.stage`` to \"metadata_only\"\n"
     ]
    },
    {
     "data": {
      "application/vnd.jupyter.widget-view+json": {
       "model_id": "",
       "version_major": 2,
       "version_minor": 0
      },
      "text/plain": [
       "Validation sanity check: 0it [00:00, ?it/s]"
      ]
     },
     "metadata": {},
     "output_type": "display_data"
    },
    {
     "name": "stderr",
     "output_type": "stream",
     "text": [
      "Global seed set to 22\n"
     ]
    },
    {
     "data": {
      "application/vnd.jupyter.widget-view+json": {
       "model_id": "ac8c0ff584d642659ac45f838f9c15f4",
       "version_major": 2,
       "version_minor": 0
      },
      "text/plain": [
       "Training: 48it [00:00, ?it/s]"
      ]
     },
     "metadata": {},
     "output_type": "display_data"
    },
    {
     "data": {
      "application/vnd.jupyter.widget-view+json": {
       "model_id": "",
       "version_major": 2,
       "version_minor": 0
      },
      "text/plain": [
       "Validating: 0it [00:00, ?it/s]"
      ]
     },
     "metadata": {},
     "output_type": "display_data"
    },
    {
     "data": {
      "application/vnd.jupyter.widget-view+json": {
       "model_id": "",
       "version_major": 2,
       "version_minor": 0
      },
      "text/plain": [
       "Validating: 0it [00:00, ?it/s]"
      ]
     },
     "metadata": {},
     "output_type": "display_data"
    },
    {
     "data": {
      "application/vnd.jupyter.widget-view+json": {
       "model_id": "",
       "version_major": 2,
       "version_minor": 0
      },
      "text/plain": [
       "Validating: 0it [00:00, ?it/s]"
      ]
     },
     "metadata": {},
     "output_type": "display_data"
    },
    {
     "data": {
      "application/vnd.jupyter.widget-view+json": {
       "model_id": "",
       "version_major": 2,
       "version_minor": 0
      },
      "text/plain": [
       "Validating: 0it [00:00, ?it/s]"
      ]
     },
     "metadata": {},
     "output_type": "display_data"
    },
    {
     "data": {
      "application/vnd.jupyter.widget-view+json": {
       "model_id": "",
       "version_major": 2,
       "version_minor": 0
      },
      "text/plain": [
       "Validating: 0it [00:00, ?it/s]"
      ]
     },
     "metadata": {},
     "output_type": "display_data"
    },
    {
     "data": {
      "application/vnd.jupyter.widget-view+json": {
       "model_id": "",
       "version_major": 2,
       "version_minor": 0
      },
      "text/plain": [
       "Validating: 0it [00:00, ?it/s]"
      ]
     },
     "metadata": {},
     "output_type": "display_data"
    },
    {
     "data": {
      "application/vnd.jupyter.widget-view+json": {
       "model_id": "",
       "version_major": 2,
       "version_minor": 0
      },
      "text/plain": [
       "Validating: 0it [00:00, ?it/s]"
      ]
     },
     "metadata": {},
     "output_type": "display_data"
    },
    {
     "data": {
      "application/vnd.jupyter.widget-view+json": {
       "model_id": "",
       "version_major": 2,
       "version_minor": 0
      },
      "text/plain": [
       "Validating: 0it [00:00, ?it/s]"
      ]
     },
     "metadata": {},
     "output_type": "display_data"
    },
    {
     "data": {
      "application/vnd.jupyter.widget-view+json": {
       "model_id": "",
       "version_major": 2,
       "version_minor": 0
      },
      "text/plain": [
       "Validating: 0it [00:00, ?it/s]"
      ]
     },
     "metadata": {},
     "output_type": "display_data"
    },
    {
     "data": {
      "application/vnd.jupyter.widget-view+json": {
       "model_id": "",
       "version_major": 2,
       "version_minor": 0
      },
      "text/plain": [
       "Validating: 0it [00:00, ?it/s]"
      ]
     },
     "metadata": {},
     "output_type": "display_data"
    },
    {
     "data": {
      "application/vnd.jupyter.widget-view+json": {
       "model_id": "",
       "version_major": 2,
       "version_minor": 0
      },
      "text/plain": [
       "Validating: 0it [00:00, ?it/s]"
      ]
     },
     "metadata": {},
     "output_type": "display_data"
    },
    {
     "data": {
      "application/vnd.jupyter.widget-view+json": {
       "model_id": "5b8dd33cbc2b4f18bf8e5650b15e623b",
       "version_major": 2,
       "version_minor": 0
      },
      "text/plain": [
       "  0%|          | 0/48 [00:00<?, ?it/s]"
      ]
     },
     "metadata": {},
     "output_type": "display_data"
    },
    {
     "name": "stdout",
     "output_type": "stream",
     "text": [
      "MAP@10 Second Stage: 0.04455868604027284\n"
     ]
    }
   ],
   "source": [
    "hybrid_model.advance_stage()\n",
    "trainer.max_epochs += 10\n",
    "\n",
    "# fit the second stage model\n",
    "trainer.fit(hybrid_model)\n",
    "\n",
    "# evaluate the second stage model\n",
    "map_10_second_stage = evaluate_in_batches(metric_list=[mapk],\n",
    "                                          test_interactions=val_interactions,\n",
    "                                          model=hybrid_model)\n",
    "\n",
    "\n",
    "print(f'MAP@10 Second Stage: {map_10_second_stage}')"
   ]
  },
  {
   "cell_type": "markdown",
   "metadata": {},
   "source": [
    "With all our model parameters now optimized separately, we can advance to the final stage and optimize everything together, at a lower learning rate, to fine-tune our recommendations algorithm. "
   ]
  },
  {
   "cell_type": "code",
   "execution_count": 14,
   "metadata": {},
   "outputs": [
    {
     "name": "stdout",
     "output_type": "stream",
     "text": [
      "Set ``self.hparams.stage`` to \"all\"\n"
     ]
    },
    {
     "data": {
      "application/vnd.jupyter.widget-view+json": {
       "model_id": "",
       "version_major": 2,
       "version_minor": 0
      },
      "text/plain": [
       "Validation sanity check: 0it [00:00, ?it/s]"
      ]
     },
     "metadata": {},
     "output_type": "display_data"
    },
    {
     "name": "stderr",
     "output_type": "stream",
     "text": [
      "Global seed set to 22\n"
     ]
    },
    {
     "data": {
      "application/vnd.jupyter.widget-view+json": {
       "model_id": "658ed9ab47d643de9e941219c20f20e2",
       "version_major": 2,
       "version_minor": 0
      },
      "text/plain": [
       "Training: 48it [00:00, ?it/s]"
      ]
     },
     "metadata": {},
     "output_type": "display_data"
    },
    {
     "data": {
      "application/vnd.jupyter.widget-view+json": {
       "model_id": "",
       "version_major": 2,
       "version_minor": 0
      },
      "text/plain": [
       "Validating: 0it [00:00, ?it/s]"
      ]
     },
     "metadata": {},
     "output_type": "display_data"
    },
    {
     "data": {
      "application/vnd.jupyter.widget-view+json": {
       "model_id": "",
       "version_major": 2,
       "version_minor": 0
      },
      "text/plain": [
       "Validating: 0it [00:00, ?it/s]"
      ]
     },
     "metadata": {},
     "output_type": "display_data"
    },
    {
     "data": {
      "application/vnd.jupyter.widget-view+json": {
       "model_id": "",
       "version_major": 2,
       "version_minor": 0
      },
      "text/plain": [
       "Validating: 0it [00:00, ?it/s]"
      ]
     },
     "metadata": {},
     "output_type": "display_data"
    },
    {
     "data": {
      "application/vnd.jupyter.widget-view+json": {
       "model_id": "",
       "version_major": 2,
       "version_minor": 0
      },
      "text/plain": [
       "Validating: 0it [00:00, ?it/s]"
      ]
     },
     "metadata": {},
     "output_type": "display_data"
    },
    {
     "data": {
      "application/vnd.jupyter.widget-view+json": {
       "model_id": "",
       "version_major": 2,
       "version_minor": 0
      },
      "text/plain": [
       "Validating: 0it [00:00, ?it/s]"
      ]
     },
     "metadata": {},
     "output_type": "display_data"
    },
    {
     "data": {
      "application/vnd.jupyter.widget-view+json": {
       "model_id": "",
       "version_major": 2,
       "version_minor": 0
      },
      "text/plain": [
       "Validating: 0it [00:00, ?it/s]"
      ]
     },
     "metadata": {},
     "output_type": "display_data"
    },
    {
     "data": {
      "application/vnd.jupyter.widget-view+json": {
       "model_id": "82b80e2b8fd54ab598449b5ed9f6b381",
       "version_major": 2,
       "version_minor": 0
      },
      "text/plain": [
       "  0%|          | 0/48 [00:00<?, ?it/s]"
      ]
     },
     "metadata": {},
     "output_type": "display_data"
    },
    {
     "name": "stdout",
     "output_type": "stream",
     "text": [
      "MAP@10 Final Stage: 0.04659126676541498\n"
     ]
    }
   ],
   "source": [
    "hybrid_model.advance_stage()\n",
    "trainer.max_epochs += 5\n",
    "\n",
    "# fit the third stage model\n",
    "trainer.fit(hybrid_model)\n",
    "\n",
    "# evaluate the final stage model\n",
    "map_10_final_stage = evaluate_in_batches(metric_list=[mapk],\n",
    "                                         test_interactions=val_interactions,\n",
    "                                         model=hybrid_model)\n",
    "\n",
    "\n",
    "print(f'MAP@10 Final Stage: {map_10_final_stage}')"
   ]
  },
  {
   "cell_type": "markdown",
   "metadata": {},
   "source": [
    "Each time we call ``trainer.fit(model)``, the optimizer and learning rate scheduler states fully clear. We've noticed that a more cyclical learning rate scheduler ends up increasing the MAP@10 considerably, something we can do easily with Collie below: "
   ]
  },
  {
   "cell_type": "code",
   "execution_count": 15,
   "metadata": {},
   "outputs": [
    {
     "data": {
      "application/vnd.jupyter.widget-view+json": {
       "model_id": "",
       "version_major": 2,
       "version_minor": 0
      },
      "text/plain": [
       "Validation sanity check: 0it [00:00, ?it/s]"
      ]
     },
     "metadata": {},
     "output_type": "display_data"
    },
    {
     "name": "stderr",
     "output_type": "stream",
     "text": [
      "Global seed set to 22\n"
     ]
    },
    {
     "data": {
      "application/vnd.jupyter.widget-view+json": {
       "model_id": "900e2e3905854c18872eeffb44433578",
       "version_major": 2,
       "version_minor": 0
      },
      "text/plain": [
       "Training: 48it [00:00, ?it/s]"
      ]
     },
     "metadata": {},
     "output_type": "display_data"
    },
    {
     "data": {
      "application/vnd.jupyter.widget-view+json": {
       "model_id": "",
       "version_major": 2,
       "version_minor": 0
      },
      "text/plain": [
       "Validating: 0it [00:00, ?it/s]"
      ]
     },
     "metadata": {},
     "output_type": "display_data"
    },
    {
     "data": {
      "application/vnd.jupyter.widget-view+json": {
       "model_id": "",
       "version_major": 2,
       "version_minor": 0
      },
      "text/plain": [
       "Validating: 0it [00:00, ?it/s]"
      ]
     },
     "metadata": {},
     "output_type": "display_data"
    },
    {
     "data": {
      "application/vnd.jupyter.widget-view+json": {
       "model_id": "",
       "version_major": 2,
       "version_minor": 0
      },
      "text/plain": [
       "Validating: 0it [00:00, ?it/s]"
      ]
     },
     "metadata": {},
     "output_type": "display_data"
    },
    {
     "data": {
      "application/vnd.jupyter.widget-view+json": {
       "model_id": "",
       "version_major": 2,
       "version_minor": 0
      },
      "text/plain": [
       "Validating: 0it [00:00, ?it/s]"
      ]
     },
     "metadata": {},
     "output_type": "display_data"
    },
    {
     "data": {
      "application/vnd.jupyter.widget-view+json": {
       "model_id": "",
       "version_major": 2,
       "version_minor": 0
      },
      "text/plain": [
       "Validating: 0it [00:00, ?it/s]"
      ]
     },
     "metadata": {},
     "output_type": "display_data"
    },
    {
     "data": {
      "application/vnd.jupyter.widget-view+json": {
       "model_id": "",
       "version_major": 2,
       "version_minor": 0
      },
      "text/plain": [
       "Validating: 0it [00:00, ?it/s]"
      ]
     },
     "metadata": {},
     "output_type": "display_data"
    },
    {
     "data": {
      "application/vnd.jupyter.widget-view+json": {
       "model_id": "96a6fbfa49174a40b03fb9667c57d32c",
       "version_major": 2,
       "version_minor": 0
      },
      "text/plain": [
       "  0%|          | 0/48 [00:00<?, ?it/s]"
      ]
     },
     "metadata": {},
     "output_type": "display_data"
    },
    {
     "name": "stdout",
     "output_type": "stream",
     "text": [
      "MAP@10 After Reset Optimizer: 0.04723392518130159\n"
     ]
    },
    {
     "data": {
      "application/vnd.jupyter.widget-view+json": {
       "model_id": "",
       "version_major": 2,
       "version_minor": 0
      },
      "text/plain": [
       "Validation sanity check: 0it [00:00, ?it/s]"
      ]
     },
     "metadata": {},
     "output_type": "display_data"
    },
    {
     "name": "stderr",
     "output_type": "stream",
     "text": [
      "Global seed set to 22\n"
     ]
    },
    {
     "data": {
      "application/vnd.jupyter.widget-view+json": {
       "model_id": "8b3ce84f47fb4773b39c28bdccc0df6f",
       "version_major": 2,
       "version_minor": 0
      },
      "text/plain": [
       "Training: 48it [00:00, ?it/s]"
      ]
     },
     "metadata": {},
     "output_type": "display_data"
    },
    {
     "data": {
      "application/vnd.jupyter.widget-view+json": {
       "model_id": "",
       "version_major": 2,
       "version_minor": 0
      },
      "text/plain": [
       "Validating: 0it [00:00, ?it/s]"
      ]
     },
     "metadata": {},
     "output_type": "display_data"
    },
    {
     "data": {
      "application/vnd.jupyter.widget-view+json": {
       "model_id": "",
       "version_major": 2,
       "version_minor": 0
      },
      "text/plain": [
       "Validating: 0it [00:00, ?it/s]"
      ]
     },
     "metadata": {},
     "output_type": "display_data"
    },
    {
     "data": {
      "application/vnd.jupyter.widget-view+json": {
       "model_id": "",
       "version_major": 2,
       "version_minor": 0
      },
      "text/plain": [
       "Validating: 0it [00:00, ?it/s]"
      ]
     },
     "metadata": {},
     "output_type": "display_data"
    },
    {
     "data": {
      "application/vnd.jupyter.widget-view+json": {
       "model_id": "",
       "version_major": 2,
       "version_minor": 0
      },
      "text/plain": [
       "Validating: 0it [00:00, ?it/s]"
      ]
     },
     "metadata": {},
     "output_type": "display_data"
    },
    {
     "data": {
      "application/vnd.jupyter.widget-view+json": {
       "model_id": "",
       "version_major": 2,
       "version_minor": 0
      },
      "text/plain": [
       "Validating: 0it [00:00, ?it/s]"
      ]
     },
     "metadata": {},
     "output_type": "display_data"
    },
    {
     "data": {
      "application/vnd.jupyter.widget-view+json": {
       "model_id": "",
       "version_major": 2,
       "version_minor": 0
      },
      "text/plain": [
       "Validating: 0it [00:00, ?it/s]"
      ]
     },
     "metadata": {},
     "output_type": "display_data"
    },
    {
     "data": {
      "application/vnd.jupyter.widget-view+json": {
       "model_id": "ac951b3a84094d529840796db9a1e9b5",
       "version_major": 2,
       "version_minor": 0
      },
      "text/plain": [
       "  0%|          | 0/48 [00:00<?, ?it/s]"
      ]
     },
     "metadata": {},
     "output_type": "display_data"
    },
    {
     "name": "stdout",
     "output_type": "stream",
     "text": [
      "MAP@10 After Reset Optimizer: 0.04791095644241813\n"
     ]
    }
   ],
   "source": [
    "for _ in range(2):\n",
    "    trainer.max_epochs += 5\n",
    "\n",
    "    trainer.fit(hybrid_model)\n",
    "\n",
    "    map_10_final_stage_reset_optimizer = evaluate_in_batches(metric_list=[mapk],\n",
    "                                                             test_interactions=val_interactions,\n",
    "                                                             model=hybrid_model)\n",
    "\n",
    "    print(f'MAP@10 After Reset Optimizer: {map_10_final_stage_reset_optimizer}')"
   ]
  },
  {
   "cell_type": "markdown",
   "metadata": {},
   "source": [
    "As always, we can visualize some of these recommendations and see if they make sense to us! "
   ]
  },
  {
   "cell_type": "code",
   "execution_count": 16,
   "metadata": {
    "id": "EwM1pkf_hE3v",
    "outputId": "8a2b20ad-f663-4294-bece-f69fb3a623ab"
   },
   "outputs": [
    {
     "data": {
      "text/html": [
       "<h3>User 885:</h3><table border=\"1\" class=\"dataframe\">\n",
       "  <thead>\n",
       "    <tr style=\"text-align: right;\">\n",
       "      <th></th>\n",
       "      <th>Dances with Wolves (1990)</th>\n",
       "      <th>Speed (1994)</th>\n",
       "      <th>Hunchback of Notre Dame, The (1996)</th>\n",
       "      <th>Cinderella (1950)</th>\n",
       "      <th>Apollo 13 (1995)</th>\n",
       "      <th>One Fine Day (1996)</th>\n",
       "      <th>Indiana Jones and the Last Crusade (1989)</th>\n",
       "      <th>Four Weddings and a Funeral (1994)</th>\n",
       "      <th>Truth About Cats & Dogs, The (1996)</th>\n",
       "      <th>Top Gun (1986)</th>\n",
       "    </tr>\n",
       "  </thead>\n",
       "  <tbody>\n",
       "    <tr>\n",
       "      <th>Some loved films:</th>\n",
       "      <td><img src=\"https://m.media-amazon.com/images/M/MV5BMTY3OTI5NDczN15BMl5BanBnXkFtZTcwNDA0NDY3Mw@@.jpg\" width=500></td>\n",
       "      <td><img src=\"https://m.media-amazon.com/images/M/MV5BYjc0MjYyN2EtZGRhMy00NzJiLWI2Y2QtYzhiYTU3NzAxNzg4XkEyXkFqcGdeQXVyMTQxNzMzNDI@.jpg\" width=500></td>\n",
       "      <td><img src=\"https://m.media-amazon.com/images/M/MV5BNzMxMDc4OGItODBiZi00NjYyLThiMzctMzQwZjgzYWE0MzQzXkEyXkFqcGdeQXVyNTUyMzE4Mzg@.jpg\" width=500></td>\n",
       "      <td><img src=\"https://m.media-amazon.com/images/M/MV5BMWE3NzMxZTYtZTUyYi00ZTMzLTg2MzEtZjg0NGM3ZDJjZDg2XkEyXkFqcGdeQXVyNDE5MTU2MDE@.jpg\" width=500></td>\n",
       "      <td><img src=\"https://m.media-amazon.com/images/M/MV5BNjEzYjJmNzgtNDkwNy00MTQ4LTlmMWMtNzA4YjE2NjI0ZDg4XkEyXkFqcGdeQXVyNjU0OTQ0OTY@.jpg\" width=500></td>\n",
       "      <td><img src=\"https://m.media-amazon.com/images/M/MV5BNDdhMjgxODQtZjNhNS00YjZiLWFmYTAtODZmM2RhM2M3YmIwXkEyXkFqcGdeQXVyMTQxNzMzNDI@.jpg\" width=500></td>\n",
       "      <td><img src=\"https://m.media-amazon.com/images/M/MV5BMjNkMzc2N2QtNjVlNS00ZTk5LTg0MTgtODY2MDAwNTMwZjBjXkEyXkFqcGdeQXVyNDk3NzU2MTQ@.jpg\" width=500></td>\n",
       "      <td><img src=\"https://m.media-amazon.com/images/M/MV5BMTMyNzg2NzgxNV5BMl5BanBnXkFtZTcwMTcxNzczNA@@.jpg\" width=500></td>\n",
       "      <td><img src=\"https://m.media-amazon.com/images/M/MV5BOWM0MTA4NjItMzM3ZS00NDJmLTg3NWItNGE5ODIyOGJhNzQ0L2ltYWdlL2ltYWdlXkEyXkFqcGdeQXVyMTQxNzMzNDI@.jpg\" width=500></td>\n",
       "      <td><img src=\"https://m.media-amazon.com/images/M/MV5BZjQxYTA3ODItNzgxMy00N2Y2LWJlZGMtMTRlM2JkZjI1ZDhhXkEyXkFqcGdeQXVyNDk3NzU2MTQ@.jpg\" width=500></td>\n",
       "    </tr>\n",
       "  </tbody>\n",
       "</table><table border=\"1\" class=\"dataframe\">\n",
       "  <thead>\n",
       "    <tr style=\"text-align: right;\">\n",
       "      <th></th>\n",
       "      <th>Star Wars (1977)</th>\n",
       "      <th>Return of the Jedi (1983)</th>\n",
       "      <th>Empire Strikes Back, The (1980)</th>\n",
       "      <th>Independence Day (ID4) (1996)</th>\n",
       "      <th>Groundhog Day (1993)</th>\n",
       "      <th>When Harry Met Sally... (1989)</th>\n",
       "      <th>Men in Black (1997)</th>\n",
       "      <th>Star Trek: First Contact (1996)</th>\n",
       "      <th>Dead Poets Society (1989)</th>\n",
       "      <th>Silence of the Lambs, The (1991)</th>\n",
       "    </tr>\n",
       "  </thead>\n",
       "  <tbody>\n",
       "    <tr>\n",
       "      <th>Recommended films:</th>\n",
       "      <td><img src=\"https://m.media-amazon.com/images/M/MV5BNzVlY2MwMjktM2E4OS00Y2Y3LWE3ZjctYzhkZGM3YzA1ZWM2XkEyXkFqcGdeQXVyNzkwMjQ5NzM@.jpg\" width=500></td>\n",
       "      <td><img src=\"https://m.media-amazon.com/images/M/MV5BOWZlMjFiYzgtMTUzNC00Y2IzLTk1NTMtZmNhMTczNTk0ODk1XkEyXkFqcGdeQXVyNTAyODkwOQ@@.jpg\" width=500></td>\n",
       "      <td><img src=\"https://m.media-amazon.com/images/M/MV5BYmU1NDRjNDgtMzhiMi00NjZmLTg5NGItZDNiZjU5NTU4OTE0XkEyXkFqcGdeQXVyNzkwMjQ5NzM@.jpg\" width=500></td>\n",
       "      <td><img src=\"https://m.media-amazon.com/images/M/MV5BMGQwNDNkMmItYWY1Yy00YTZmLWE5OTAtODU0MGZmMzQ1NDdkXkEyXkFqcGdeQXVyMTQxNzMzNDI@.jpg\" width=500></td>\n",
       "      <td><img src=\"https://m.media-amazon.com/images/M/MV5BZWIxNzM5YzQtY2FmMS00Yjc3LWI1ZjUtNGVjMjMzZTIxZTIxXkEyXkFqcGdeQXVyNjU0OTQ0OTY@.jpg\" width=500></td>\n",
       "      <td><img src=\"https://m.media-amazon.com/images/M/MV5BMjE0ODEwNjM2NF5BMl5BanBnXkFtZTcwMjU2Mzg3NA@@.jpg\" width=500></td>\n",
       "      <td><img src=\"https://m.media-amazon.com/images/M/MV5BOTlhYTVkMDktYzIyNC00NzlkLTlmN2ItOGEyMWQ4OTA2NDdmXkEyXkFqcGdeQXVyNTAyODkwOQ@@.jpg\" width=500></td>\n",
       "      <td><img src=\"https://m.media-amazon.com/images/M/MV5BYTllZjRkY2QtYTJlMy00ZTMxLWE0YWQtMWMwYzY2YTM3YzRjXkEyXkFqcGdeQXVyNTAyODkwOQ@@.jpg\" width=500></td>\n",
       "      <td><img src=\"https://m.media-amazon.com/images/M/MV5BOGYwYWNjMzgtNGU4ZC00NWQ2LWEwZjUtMzE1Zjc3NjY3YTU1XkEyXkFqcGdeQXVyMTQxNzMzNDI@.jpg\" width=500></td>\n",
       "      <td><img src=\"https://m.media-amazon.com/images/M/MV5BNjNhZTk0ZmEtNjJhMi00YzFlLWE1MmEtYzM1M2ZmMGMwMTU4XkEyXkFqcGdeQXVyNjU0OTQ0OTY@.jpg\" width=500></td>\n",
       "    </tr>\n",
       "  </tbody>\n",
       "</table>-----<p style=\"margin:0\">User 885 has rated <strong>45</strong> films with a 4 or 5</p><p style=\"margin:0\">User 885 has rated <strong>57</strong> films with a 1, 2, or 3</p><p style=\"margin:0\">% of these films rated 5 or 4 appearing in the first 10 recommendations:<strong style=\"color:green\">70.0%</strong></p><p style=\"margin:0\">% of these films rated 1, 2, or 3 appearing in the first 10 recommendations: <strong style=\"color:red\">30.0%</strong></p>"
      ],
      "text/plain": [
       "<IPython.core.display.HTML object>"
      ]
     },
     "metadata": {},
     "output_type": "display_data"
    }
   ],
   "source": [
    "user_id = np.random.randint(0, train_interactions.num_users)\n",
    "\n",
    "display(\n",
    "    HTML(\n",
    "        get_recommendation_visualizations(\n",
    "            model=hybrid_model,\n",
    "            user_id=user_id,\n",
    "            filter_films=True,\n",
    "            shuffle=True,\n",
    "            detailed=True,\n",
    "        )\n",
    "    )\n",
    ")"
   ]
  },
  {
   "cell_type": "markdown",
   "metadata": {
    "id": "nfjulOO0hE3m"
   },
   "source": [
    "# Cold Start Model \n",
    "\n",
    "Collie includes another multi-stage model, ``ColdStartModel``, which allows you to use the same concept shown earlier, but now to train up a model that uses metadata to specifically counter the cold start problem when we have new items that users have not yet interacted with, but we want high quality recommendations for. You can view the docs for this model [here](https://collie.readthedocs.io/en/latest/models.html).\n",
    "\n",
    "In addition, Collie includes a base pipeline for multi-stage pipelines that makes it easy to inherit and customize your own multi-stage models! See [here](https://collie.readthedocs.io/en/latest/models.html) for more details!"
   ]
  },
  {
   "cell_type": "code",
   "execution_count": 17,
   "metadata": {},
   "outputs": [],
   "source": [
    "from collie.model.cold_start_matrix_factorization import ColdStartModel"
   ]
  },
  {
   "cell_type": "code",
   "execution_count": 18,
   "metadata": {},
   "outputs": [
    {
     "name": "stdout",
     "output_type": "stream",
     "text": [
      "Set ``self.hparams.stage`` to \"item_buckets\"\n"
     ]
    }
   ],
   "source": [
    "cold_start_model = ColdStartModel(train=train_interactions,\n",
    "                                  val=val_interactions,\n",
    "                                  item_buckets=genres,\n",
    "                                  item_buckets_stage_lr=1e-2,\n",
    "                                  no_buckets_stage_lr=1e-4,\n",
    "                                  embedding_dim=30)"
   ]
  },
  {
   "cell_type": "code",
   "execution_count": 19,
   "metadata": {},
   "outputs": [
    {
     "name": "stderr",
     "output_type": "stream",
     "text": [
      "GPU available: False, used: False\n",
      "TPU available: False, using: 0 TPU cores\n"
     ]
    }
   ],
   "source": [
    "trainer = CollieTrainer(\n",
    "    model=cold_start_model,\n",
    "    max_epochs=7,\n",
    "    logger=False,\n",
    "    enable_checkpointing=False,\n",
    "    weights_summary=None,\n",
    ")"
   ]
  },
  {
   "cell_type": "code",
   "execution_count": 20,
   "metadata": {},
   "outputs": [
    {
     "data": {
      "application/vnd.jupyter.widget-view+json": {
       "model_id": "",
       "version_major": 2,
       "version_minor": 0
      },
      "text/plain": [
       "Validation sanity check: 0it [00:00, ?it/s]"
      ]
     },
     "metadata": {},
     "output_type": "display_data"
    },
    {
     "name": "stderr",
     "output_type": "stream",
     "text": [
      "Global seed set to 22\n"
     ]
    },
    {
     "data": {
      "application/vnd.jupyter.widget-view+json": {
       "model_id": "f0ff4e9853774291a0c1df5e4d4e5dca",
       "version_major": 2,
       "version_minor": 0
      },
      "text/plain": [
       "Training: 0it [00:00, ?it/s]"
      ]
     },
     "metadata": {},
     "output_type": "display_data"
    },
    {
     "data": {
      "application/vnd.jupyter.widget-view+json": {
       "model_id": "",
       "version_major": 2,
       "version_minor": 0
      },
      "text/plain": [
       "Validating: 0it [00:00, ?it/s]"
      ]
     },
     "metadata": {},
     "output_type": "display_data"
    },
    {
     "data": {
      "application/vnd.jupyter.widget-view+json": {
       "model_id": "",
       "version_major": 2,
       "version_minor": 0
      },
      "text/plain": [
       "Validating: 0it [00:00, ?it/s]"
      ]
     },
     "metadata": {},
     "output_type": "display_data"
    },
    {
     "data": {
      "application/vnd.jupyter.widget-view+json": {
       "model_id": "",
       "version_major": 2,
       "version_minor": 0
      },
      "text/plain": [
       "Validating: 0it [00:00, ?it/s]"
      ]
     },
     "metadata": {},
     "output_type": "display_data"
    },
    {
     "data": {
      "application/vnd.jupyter.widget-view+json": {
       "model_id": "",
       "version_major": 2,
       "version_minor": 0
      },
      "text/plain": [
       "Validating: 0it [00:00, ?it/s]"
      ]
     },
     "metadata": {},
     "output_type": "display_data"
    },
    {
     "data": {
      "application/vnd.jupyter.widget-view+json": {
       "model_id": "",
       "version_major": 2,
       "version_minor": 0
      },
      "text/plain": [
       "Validating: 0it [00:00, ?it/s]"
      ]
     },
     "metadata": {},
     "output_type": "display_data"
    },
    {
     "data": {
      "application/vnd.jupyter.widget-view+json": {
       "model_id": "",
       "version_major": 2,
       "version_minor": 0
      },
      "text/plain": [
       "Validating: 0it [00:00, ?it/s]"
      ]
     },
     "metadata": {},
     "output_type": "display_data"
    },
    {
     "data": {
      "application/vnd.jupyter.widget-view+json": {
       "model_id": "",
       "version_major": 2,
       "version_minor": 0
      },
      "text/plain": [
       "Validating: 0it [00:00, ?it/s]"
      ]
     },
     "metadata": {},
     "output_type": "display_data"
    },
    {
     "data": {
      "application/vnd.jupyter.widget-view+json": {
       "model_id": "0e9ad31778aa4623ac72541149875bed",
       "version_major": 2,
       "version_minor": 0
      },
      "text/plain": [
       "  0%|          | 0/48 [00:00<?, ?it/s]"
      ]
     },
     "metadata": {},
     "output_type": "display_data"
    },
    {
     "name": "stdout",
     "output_type": "stream",
     "text": [
      "MAP@10 First Stage: 0.012453659237541048\n"
     ]
    }
   ],
   "source": [
    "# train the first stage\n",
    "trainer.fit(cold_start_model)\n",
    "\n",
    "map_10_first_stage = evaluate_in_batches(metric_list=[mapk],\n",
    "                                         test_interactions=val_interactions,\n",
    "                                         model=cold_start_model)\n",
    "\n",
    "\n",
    "print(f'MAP@10 First Stage: {map_10_first_stage}')"
   ]
  },
  {
   "cell_type": "markdown",
   "metadata": {},
   "source": [
    "The MAP@10 score is low, but this is expected for MovieLens 100K data, where we only have a small set of genres that are not evenly distributed. Ideally, this model works best when our buckets are better defined, separate, and distinct. \n",
    "\n",
    "However, this model still provides us a useful instantiation spot that is certainly better than random. As a small aside, we'll see what the MAP@10 score is for a randomly initialized model ``MatrixFactorizationModel``, since this is the same model architecture: \n",
    "\n",
    "```python\n",
    ">>> from collie.model import MatrixFactorizationModel\n",
    ">>> \n",
    ">>> randomly_initialized_model = MatrixFactorizationModel(train=train_interactions,\n",
    ">>>                                                       embedding_dim=30)\n",
    ">>> randomly_initialized_map_10 = evaluate_in_batches(metric_list=[mapk],\n",
    ">>>                                                   test_interactions=val_interactions,\n",
    ">>>                                                   model=randomly_initialized_model)\n",
    ">>> \n",
    ">>> print(f'MAP@10 for Randomly Initialized Model: {randomly_initialized_map_10}')\n",
    "MAP@10 for Randomly Initialized Model: 0.002076902122018895\n",
    "```"
   ]
  },
  {
   "cell_type": "markdown",
   "metadata": {},
   "source": [
    "With the user and item bucket embeddings and bias parameters now tuned, we'll copy this over our second stage model. This involves copying the ``item_bucket_embeddings -> item_embeddings`` and ``item_bucket_biases -> item_biases`` as initialization. We can then advance the stage and continue training the model as normal. "
   ]
  },
  {
   "cell_type": "code",
   "execution_count": 21,
   "metadata": {},
   "outputs": [
    {
     "name": "stdout",
     "output_type": "stream",
     "text": [
      "Copying over item embeddings...\n",
      "Set ``self.hparams.stage`` to \"no_buckets\"\n"
     ]
    },
    {
     "data": {
      "application/vnd.jupyter.widget-view+json": {
       "model_id": "",
       "version_major": 2,
       "version_minor": 0
      },
      "text/plain": [
       "Validation sanity check: 0it [00:00, ?it/s]"
      ]
     },
     "metadata": {},
     "output_type": "display_data"
    },
    {
     "name": "stderr",
     "output_type": "stream",
     "text": [
      "Global seed set to 22\n"
     ]
    },
    {
     "data": {
      "application/vnd.jupyter.widget-view+json": {
       "model_id": "9332db55e284437d9ed4a524406c49b1",
       "version_major": 2,
       "version_minor": 0
      },
      "text/plain": [
       "Training: 48it [00:00, ?it/s]"
      ]
     },
     "metadata": {},
     "output_type": "display_data"
    },
    {
     "data": {
      "application/vnd.jupyter.widget-view+json": {
       "model_id": "",
       "version_major": 2,
       "version_minor": 0
      },
      "text/plain": [
       "Validating: 0it [00:00, ?it/s]"
      ]
     },
     "metadata": {},
     "output_type": "display_data"
    },
    {
     "data": {
      "application/vnd.jupyter.widget-view+json": {
       "model_id": "",
       "version_major": 2,
       "version_minor": 0
      },
      "text/plain": [
       "Validating: 0it [00:00, ?it/s]"
      ]
     },
     "metadata": {},
     "output_type": "display_data"
    },
    {
     "data": {
      "application/vnd.jupyter.widget-view+json": {
       "model_id": "",
       "version_major": 2,
       "version_minor": 0
      },
      "text/plain": [
       "Validating: 0it [00:00, ?it/s]"
      ]
     },
     "metadata": {},
     "output_type": "display_data"
    },
    {
     "data": {
      "application/vnd.jupyter.widget-view+json": {
       "model_id": "",
       "version_major": 2,
       "version_minor": 0
      },
      "text/plain": [
       "Validating: 0it [00:00, ?it/s]"
      ]
     },
     "metadata": {},
     "output_type": "display_data"
    },
    {
     "data": {
      "application/vnd.jupyter.widget-view+json": {
       "model_id": "",
       "version_major": 2,
       "version_minor": 0
      },
      "text/plain": [
       "Validating: 0it [00:00, ?it/s]"
      ]
     },
     "metadata": {},
     "output_type": "display_data"
    },
    {
     "data": {
      "application/vnd.jupyter.widget-view+json": {
       "model_id": "",
       "version_major": 2,
       "version_minor": 0
      },
      "text/plain": [
       "Validating: 0it [00:00, ?it/s]"
      ]
     },
     "metadata": {},
     "output_type": "display_data"
    },
    {
     "data": {
      "application/vnd.jupyter.widget-view+json": {
       "model_id": "",
       "version_major": 2,
       "version_minor": 0
      },
      "text/plain": [
       "Validating: 0it [00:00, ?it/s]"
      ]
     },
     "metadata": {},
     "output_type": "display_data"
    },
    {
     "data": {
      "application/vnd.jupyter.widget-view+json": {
       "model_id": "",
       "version_major": 2,
       "version_minor": 0
      },
      "text/plain": [
       "Validating: 0it [00:00, ?it/s]"
      ]
     },
     "metadata": {},
     "output_type": "display_data"
    },
    {
     "data": {
      "application/vnd.jupyter.widget-view+json": {
       "model_id": "",
       "version_major": 2,
       "version_minor": 0
      },
      "text/plain": [
       "Validating: 0it [00:00, ?it/s]"
      ]
     },
     "metadata": {},
     "output_type": "display_data"
    },
    {
     "data": {
      "application/vnd.jupyter.widget-view+json": {
       "model_id": "",
       "version_major": 2,
       "version_minor": 0
      },
      "text/plain": [
       "Validating: 0it [00:00, ?it/s]"
      ]
     },
     "metadata": {},
     "output_type": "display_data"
    },
    {
     "data": {
      "application/vnd.jupyter.widget-view+json": {
       "model_id": "",
       "version_major": 2,
       "version_minor": 0
      },
      "text/plain": [
       "Validating: 0it [00:00, ?it/s]"
      ]
     },
     "metadata": {},
     "output_type": "display_data"
    },
    {
     "data": {
      "application/vnd.jupyter.widget-view+json": {
       "model_id": "1e347ac67e6545c6a410a498ab8e0411",
       "version_major": 2,
       "version_minor": 0
      },
      "text/plain": [
       "  0%|          | 0/48 [00:00<?, ?it/s]"
      ]
     },
     "metadata": {},
     "output_type": "display_data"
    },
    {
     "name": "stdout",
     "output_type": "stream",
     "text": [
      "MAP@10 Final Stage: 0.03173671056847683\n"
     ]
    }
   ],
   "source": [
    "cold_start_model.advance_stage()\n",
    "trainer.max_epochs += 10\n",
    "\n",
    "# fit the second stage model\n",
    "trainer.fit(cold_start_model)\n",
    "\n",
    "# evaluate the final stage model\n",
    "map_10_final_stage = evaluate_in_batches(metric_list=[mapk],\n",
    "                                         test_interactions=val_interactions,\n",
    "                                         model=cold_start_model)\n",
    "\n",
    "\n",
    "print(f'MAP@10 Final Stage: {map_10_final_stage}')"
   ]
  },
  {
   "cell_type": "markdown",
   "metadata": {},
   "source": [
    "Now that we have a trained model, imagine we have a new film enter our database that we want to make recommendations for. With a cold start model, we can easily do this with the ``item_bucket_item_similarity`` method, which allows us to find similar items to an item bucket ID. We'll see this below on MovieLens 100K data! "
   ]
  },
  {
   "cell_type": "code",
   "execution_count": 22,
   "metadata": {
    "id": "Ycl8PcLIgzLl"
   },
   "outputs": [],
   "source": [
    "# read in the item information with MovieLens data\n",
    "df_item = read_movielens_df_item()\n",
    "\n",
    "# all IDs must start at 0 in Collie, so we'll make that adjustment here\n",
    "df_item['item_id'] -= 1"
   ]
  },
  {
   "cell_type": "code",
   "execution_count": 23,
   "metadata": {},
   "outputs": [],
   "source": [
    "action_genre_idx = metadata_df.columns.tolist().index('genre_action')\n",
    "\n",
    "item_similarities = cold_start_model.item_bucket_item_similarity(item_bucket_id=action_genre_idx)"
   ]
  },
  {
   "cell_type": "code",
   "execution_count": 24,
   "metadata": {
    "id": "MW741iOcgzLm",
    "outputId": "61722365-6bee-4349-ed86-807f9849d134"
   },
   "outputs": [
    {
     "data": {
      "text/html": [
       "<div>\n",
       "<style scoped>\n",
       "    .dataframe tbody tr th:only-of-type {\n",
       "        vertical-align: middle;\n",
       "    }\n",
       "\n",
       "    .dataframe tbody tr th {\n",
       "        vertical-align: top;\n",
       "    }\n",
       "\n",
       "    .dataframe thead th {\n",
       "        text-align: right;\n",
       "    }\n",
       "</style>\n",
       "<table border=\"1\" class=\"dataframe\">\n",
       "  <thead>\n",
       "    <tr style=\"text-align: right;\">\n",
       "      <th></th>\n",
       "      <th>item_id</th>\n",
       "      <th>movie_title</th>\n",
       "      <th>release_date</th>\n",
       "      <th>IMDb_URL</th>\n",
       "      <th>unknown</th>\n",
       "      <th>Action</th>\n",
       "      <th>Adventure</th>\n",
       "      <th>Animation</th>\n",
       "      <th>Children</th>\n",
       "      <th>Comedy</th>\n",
       "      <th>...</th>\n",
       "      <th>Fantasy</th>\n",
       "      <th>Film_Noir</th>\n",
       "      <th>Horror</th>\n",
       "      <th>Musical</th>\n",
       "      <th>Mystery</th>\n",
       "      <th>Romance</th>\n",
       "      <th>Sci_Fi</th>\n",
       "      <th>Thriller</th>\n",
       "      <th>War</th>\n",
       "      <th>Western</th>\n",
       "    </tr>\n",
       "  </thead>\n",
       "  <tbody>\n",
       "    <tr>\n",
       "      <th>1361</th>\n",
       "      <td>1361</td>\n",
       "      <td>American Strays (1996)</td>\n",
       "      <td>1996-09-13</td>\n",
       "      <td>http://us.imdb.com/M/title-exact?American%20St...</td>\n",
       "      <td>0</td>\n",
       "      <td>1</td>\n",
       "      <td>0</td>\n",
       "      <td>0</td>\n",
       "      <td>0</td>\n",
       "      <td>0</td>\n",
       "      <td>...</td>\n",
       "      <td>0</td>\n",
       "      <td>0</td>\n",
       "      <td>0</td>\n",
       "      <td>0</td>\n",
       "      <td>0</td>\n",
       "      <td>0</td>\n",
       "      <td>0</td>\n",
       "      <td>0</td>\n",
       "      <td>0</td>\n",
       "      <td>0</td>\n",
       "    </tr>\n",
       "    <tr>\n",
       "      <th>1432</th>\n",
       "      <td>1432</td>\n",
       "      <td>Men of Means (1998)</td>\n",
       "      <td>1997-01-01</td>\n",
       "      <td>http://us.imdb.com/M/title-exact?imdb-title-11...</td>\n",
       "      <td>0</td>\n",
       "      <td>1</td>\n",
       "      <td>0</td>\n",
       "      <td>0</td>\n",
       "      <td>0</td>\n",
       "      <td>0</td>\n",
       "      <td>...</td>\n",
       "      <td>0</td>\n",
       "      <td>0</td>\n",
       "      <td>0</td>\n",
       "      <td>0</td>\n",
       "      <td>0</td>\n",
       "      <td>0</td>\n",
       "      <td>0</td>\n",
       "      <td>0</td>\n",
       "      <td>0</td>\n",
       "      <td>0</td>\n",
       "    </tr>\n",
       "    <tr>\n",
       "      <th>1613</th>\n",
       "      <td>1613</td>\n",
       "      <td>Reluctant Debutante, The (1958)</td>\n",
       "      <td>1958-01-01</td>\n",
       "      <td>http://us.imdb.com/M/title-exact?Reluctant%20D...</td>\n",
       "      <td>0</td>\n",
       "      <td>0</td>\n",
       "      <td>0</td>\n",
       "      <td>0</td>\n",
       "      <td>0</td>\n",
       "      <td>1</td>\n",
       "      <td>...</td>\n",
       "      <td>0</td>\n",
       "      <td>0</td>\n",
       "      <td>0</td>\n",
       "      <td>0</td>\n",
       "      <td>0</td>\n",
       "      <td>0</td>\n",
       "      <td>0</td>\n",
       "      <td>0</td>\n",
       "      <td>0</td>\n",
       "      <td>0</td>\n",
       "    </tr>\n",
       "    <tr>\n",
       "      <th>1547</th>\n",
       "      <td>1547</td>\n",
       "      <td>The Courtyard (1995)</td>\n",
       "      <td>1995-01-01</td>\n",
       "      <td>http://us.imdb.com/M/title-exact?Courtyard,%20...</td>\n",
       "      <td>0</td>\n",
       "      <td>1</td>\n",
       "      <td>0</td>\n",
       "      <td>0</td>\n",
       "      <td>0</td>\n",
       "      <td>0</td>\n",
       "      <td>...</td>\n",
       "      <td>0</td>\n",
       "      <td>0</td>\n",
       "      <td>0</td>\n",
       "      <td>0</td>\n",
       "      <td>0</td>\n",
       "      <td>0</td>\n",
       "      <td>0</td>\n",
       "      <td>1</td>\n",
       "      <td>0</td>\n",
       "      <td>0</td>\n",
       "    </tr>\n",
       "    <tr>\n",
       "      <th>829</th>\n",
       "      <td>829</td>\n",
       "      <td>Power 98 (1995)</td>\n",
       "      <td>1996-05-17</td>\n",
       "      <td>http://us.imdb.com/M/title-exact?Power%2098%20...</td>\n",
       "      <td>0</td>\n",
       "      <td>1</td>\n",
       "      <td>0</td>\n",
       "      <td>0</td>\n",
       "      <td>0</td>\n",
       "      <td>0</td>\n",
       "      <td>...</td>\n",
       "      <td>0</td>\n",
       "      <td>0</td>\n",
       "      <td>0</td>\n",
       "      <td>0</td>\n",
       "      <td>1</td>\n",
       "      <td>0</td>\n",
       "      <td>0</td>\n",
       "      <td>1</td>\n",
       "      <td>0</td>\n",
       "      <td>0</td>\n",
       "    </tr>\n",
       "  </tbody>\n",
       "</table>\n",
       "<p>5 rows × 23 columns</p>\n",
       "</div>"
      ],
      "text/plain": [
       "      item_id                      movie_title release_date  \\\n",
       "1361     1361           American Strays (1996)   1996-09-13   \n",
       "1432     1432              Men of Means (1998)   1997-01-01   \n",
       "1613     1613  Reluctant Debutante, The (1958)   1958-01-01   \n",
       "1547     1547             The Courtyard (1995)   1995-01-01   \n",
       "829       829                  Power 98 (1995)   1996-05-17   \n",
       "\n",
       "                                               IMDb_URL  unknown  Action  \\\n",
       "1361  http://us.imdb.com/M/title-exact?American%20St...        0       1   \n",
       "1432  http://us.imdb.com/M/title-exact?imdb-title-11...        0       1   \n",
       "1613  http://us.imdb.com/M/title-exact?Reluctant%20D...        0       0   \n",
       "1547  http://us.imdb.com/M/title-exact?Courtyard,%20...        0       1   \n",
       "829   http://us.imdb.com/M/title-exact?Power%2098%20...        0       1   \n",
       "\n",
       "      Adventure  Animation  Children  Comedy  ...  Fantasy  Film_Noir  Horror  \\\n",
       "1361          0          0         0       0  ...        0          0       0   \n",
       "1432          0          0         0       0  ...        0          0       0   \n",
       "1613          0          0         0       1  ...        0          0       0   \n",
       "1547          0          0         0       0  ...        0          0       0   \n",
       "829           0          0         0       0  ...        0          0       0   \n",
       "\n",
       "      Musical  Mystery  Romance  Sci_Fi  Thriller  War  Western  \n",
       "1361        0        0        0       0         0    0        0  \n",
       "1432        0        0        0       0         0    0        0  \n",
       "1613        0        0        0       0         0    0        0  \n",
       "1547        0        0        0       0         1    0        0  \n",
       "829         0        1        0       0         1    0        0  \n",
       "\n",
       "[5 rows x 23 columns]"
      ]
     },
     "execution_count": 24,
     "metadata": {},
     "output_type": "execute_result"
    }
   ],
   "source": [
    "df_item.iloc[item_similarities.index][:5]"
   ]
  },
  {
   "cell_type": "markdown",
   "metadata": {},
   "source": [
    "So, if we have a new action film without any interactions, for example, we can still provide some level of personalized recommendations with a cold start model! \n",
    "\n",
    "Obviously this example is simple when the only buckets we use is genre, but as the buckets become more nuanced and you include other forms of metadata, these recommendations become more and more personalized! "
   ]
  },
  {
   "cell_type": "markdown",
   "metadata": {
    "id": "S5RC4DzjhE3y"
   },
   "source": [
    "----- "
   ]
  },
  {
   "cell_type": "markdown",
   "metadata": {},
   "source": [
    "Thus far in the tutorials, we have mainly focused on building out implicit recommendation systems for times when we don't explicitly know the degree to which users loved or hated certain items. In the following tutorial, we'll examine how to build a recommendations model for situations in which we _do_ have that data, something known as explicit recommendations. See you there! "
   ]
  },
  {
   "cell_type": "markdown",
   "metadata": {
    "id": "S5RC4DzjhE3y"
   },
   "source": [
    "----- "
   ]
  }
 ],
 "metadata": {
  "colab": {
   "collapsed_sections": [
    "OgLmk_F2hE3k"
   ],
   "name": "05_hybrid_model.ipynb",
   "provenance": []
  },
  "kernelspec": {
   "display_name": "Python 3 (ipykernel)",
   "language": "python",
   "name": "python3"
  },
  "language_info": {
   "codemirror_mode": {
    "name": "ipython",
    "version": 3
   },
   "file_extension": ".py",
   "mimetype": "text/x-python",
   "name": "python",
   "nbconvert_exporter": "python",
   "pygments_lexer": "ipython3",
   "version": "3.7.10"
  }
 },
 "nbformat": 4,
 "nbformat_minor": 4
}
